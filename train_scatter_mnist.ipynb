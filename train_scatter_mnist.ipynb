{
 "cells": [
  {
   "cell_type": "code",
   "execution_count": null,
   "metadata": {
    "tags": []
   },
   "outputs": [],
   "source": [
    "# Application of FL task\n",
    "from MLModel import *\n",
    "\n",
    "from utils import *\n",
    "from rdp_analysis import calibrating_sampled_gaussian\n",
    "from privacy_analysis import calibrating_distp_noise\n",
    "\n",
    "from torchvision import datasets, transforms\n",
    "import torch\n",
    "import numpy as np\n",
    "import os\n",
    "\n",
    "os.environ[\"CUDA_VISIBLE_DEVICES\"] = \"0\"\n",
    "device = torch.device(\"cuda:0\" if torch.cuda.is_available() else \"cpu\")\n",
    "#device = torch.device(\"cpu\")\n",
    "\n",
    "data_set = 'mnist'"
   ]
  },
  {
   "cell_type": "code",
   "execution_count": null,
   "metadata": {
    "tags": []
   },
   "outputs": [],
   "source": [
    "\"\"\"\n",
    "1. load_data\n",
    "2. generate clients (step 3)\n",
    "3. generate aggregator\n",
    "4. training\n",
    "\"\"\"\n",
    "client_num = 4\n",
    "d = torch.load('scattered-mnist-noniid.pt')\n",
    "\n",
    "torch.cuda.empty_cache()"
   ]
  },
  {
   "cell_type": "code",
   "execution_count": null,
   "metadata": {
    "tags": []
   },
   "outputs": [],
   "source": [
    "output_size = 10\n",
    "T = 5\n",
    "q = 0.05\n",
    "lr = 0.1\n",
    "clip = 0.01"
   ]
  },
  {
   "cell_type": "code",
   "execution_count": null,
   "metadata": {
    "tags": []
   },
   "outputs": [],
   "source": [
    "\"\"\"\n",
    "FL model parameters.\n",
    "\"\"\"\n",
    "from FLModel_row import *\n",
    "\n",
    "import time\n",
    "import warnings\n",
    "warnings.filterwarnings(\"ignore\")\n",
    "\n",
    "for E in [5, 22, 39, 59, 81, 103, 133]:\n",
    "    avg_acc = []\n",
    "    for _ in range(5):\n",
    "        fl_param = {\n",
    "            'output_size': output_size,\n",
    "            'client_num': client_num,\n",
    "            'model': 'scatter',\n",
    "            'data': d,\n",
    "            'lr': lr,\n",
    "            'E': E,\n",
    "            'C': 1,\n",
    "            'q': q,\n",
    "            'clip': clip,\n",
    "            'noise': 10.0,\n",
    "            'm': 32,\n",
    "            'tot_T': T,\n",
    "            'batch_size': 128,\n",
    "            'device': device,\n",
    "            'pth': \"model/tune/\"\n",
    "        }\n",
    "\n",
    "        fl_entity = FLServer(fl_param).to(device)\n",
    "        acc = []\n",
    "        start_time = time.time()\n",
    "        for t in range(fl_param['tot_T']):\n",
    "            acc += [fl_entity.global_update(t+1)]\n",
    "        avg_acc.append(acc[-1])\n",
    "        print(\"acc = {:.4f}\".format(acc[-1]))\n",
    "    print(\"E = {}, avg acc = {}\".format(E, np.mean(avg_acc)))"
   ]
  }
 ],
 "metadata": {
  "kernelspec": {
   "display_name": "Python 3 (ipykernel)",
   "language": "python",
   "name": "python3"
  },
  "language_info": {
   "codemirror_mode": {
    "name": "ipython",
    "version": 3
   },
   "file_extension": ".py",
   "mimetype": "text/x-python",
   "name": "python",
   "nbconvert_exporter": "python",
   "pygments_lexer": "ipython3",
   "version": "3.8.8"
  }
 },
 "nbformat": 4,
 "nbformat_minor": 4
}

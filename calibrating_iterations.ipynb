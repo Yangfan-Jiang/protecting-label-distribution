{
 "cells": [
  {
   "cell_type": "code",
   "execution_count": null,
   "id": "eeb16e9d-6514-4067-94d8-22168bdc9f51",
   "metadata": {
    "tags": []
   },
   "outputs": [],
   "source": [
    "import numpy as np\n",
    "from decimal import *\n",
    "from scipy.special import comb\n",
    "\n",
    "getcontext().prec = 128"
   ]
  },
  {
   "cell_type": "code",
   "execution_count": null,
   "id": "08a8dcfc-a663-4b13-834c-2937df9ca226",
   "metadata": {
    "tags": []
   },
   "outputs": [],
   "source": [
    "def rdp2dp(rdp, bad_event, alpha):\n",
    "    return rdp + 1.0/(alpha-1) * (np.log(1.0/bad_event) + (alpha-1)*np.log(1-1.0/alpha) - np.log(alpha))"
   ]
  },
  {
   "cell_type": "code",
   "execution_count": null,
   "id": "699ae725-32ba-4191-bb5a-405ce9bb915a",
   "metadata": {
    "tags": []
   },
   "outputs": [],
   "source": [
    "from autodp import rdp_bank, rdp_acct, dp_acct,privacy_calibrator\n",
    "\n",
    "def get_eps_bounded(q, sigma, bad_event, iters):\n",
    "    func_gaussian= lambda x: rdp_bank.RDP_gaussian({'sigma': sigma }, x)\n",
    "\n",
    "    # declare the moment accountants\n",
    "    acct1 = rdp_acct.anaRDPacct()\n",
    "\n",
    "    acct1.compose_subsampled_mechanism(func_gaussian, q, coeff=iters, improved_bound_flag=True)\n",
    "    return acct1.get_eps(bad_event)"
   ]
  },
  {
   "cell_type": "code",
   "execution_count": null,
   "id": "b9a17675-6dd4-48d2-a6c3-0c69042f799e",
   "metadata": {
    "tags": []
   },
   "outputs": [],
   "source": [
    "def get_rdp_tau(alpha, sigma, c, k):\n",
    "    sum_ = Decimal(0.0)\n",
    "    \n",
    "    p_r = [Decimal(comb(k, i, exact=True)) * Decimal(2.0/c)**Decimal(i) * Decimal(1-2.0/c)**Decimal(k-i) for i in range(0, k+1)]\n",
    "    \n",
    "    for i in range(0, k+1):\n",
    "        sum_ +=  p_r[i]*Decimal(np.e)**(Decimal((alpha-1)*alpha*i**2)/Decimal(2*sigma**2))\n",
    "    rdp = sum_.ln() / Decimal(alpha-1)\n",
    "    return float(rdp)\n",
    "\n",
    "def get_sampled_row_rdp(alpha, sigma, m, p_list, c):\n",
    "    sum_ = Decimal(0.0)\n",
    "    \n",
    "    for k in range(0, m+1):\n",
    "        tau = get_rdp_tau(alpha, sigma, c, k)\n",
    "        sum_ +=  p_list[k]*Decimal(np.e)**( Decimal((alpha-1) * tau) )\n",
    "        \n",
    "    rdp = sum_.ln() / Decimal(alpha-1)\n",
    "    \n",
    "    return float(rdp)\n",
    "\n",
    "def search_sampled_row_budget(sigma, m, p_list, bad_event, c, iters=1):\n",
    "    min_dp = 1e5\n",
    "    for alpha in list(range(2, 101)):\n",
    "        rdp = iters * get_sampled_row_rdp(alpha, sigma, m, p_list, c)\n",
    "        dp = rdp2dp(rdp, bad_event, alpha)\n",
    "        min_dp = min(min_dp, dp)\n",
    "    return min_dp"
   ]
  },
  {
   "cell_type": "markdown",
   "id": "e9ae2076-2018-45d7-96f9-555aa22a49cf",
   "metadata": {},
   "source": [
    "### Calibrating Number of Iterations"
   ]
  },
  {
   "cell_type": "code",
   "execution_count": null,
   "id": "7b2d70a2-efff-491f-8505-bbf352b78172",
   "metadata": {
    "tags": []
   },
   "outputs": [],
   "source": [
    "bad_event = 1e-4\n",
    "sigma = 10\n",
    "m = 32\n",
    "c = 10\n",
    "q = 0.05\n",
    "\n",
    "p_list_p = [Decimal(comb(m, k, exact=True)) * Decimal(q)**Decimal(k) * Decimal(1-q)**Decimal(m-k) for k in range(0, m+1)]\n",
    "sampled_row_rdp_list = []\n",
    "for alpha in list(range(2, 101)):\n",
    "    sampled_row_rdp_list.append(get_sampled_row_rdp(alpha, sigma, m, p_list_p, c))"
   ]
  },
  {
   "cell_type": "code",
   "execution_count": null,
   "id": "1201bd68-7025-4295-b20f-ab9c920f0efc",
   "metadata": {
    "tags": []
   },
   "outputs": [],
   "source": [
    "def search_sampled_row_budget_fast(iters=1):\n",
    "    min_dp = 1e5\n",
    "    for alpha in list(range(2, 101)):\n",
    "        rdp = iters * sampled_row_rdp_list[alpha-2]\n",
    "        dp = rdp2dp(rdp, bad_event, alpha)\n",
    "        min_dp = min(min_dp, dp)\n",
    "    return min_dp"
   ]
  },
  {
   "cell_type": "code",
   "execution_count": null,
   "id": "57a47e39-41ab-43e9-81b1-58e5c6e237b1",
   "metadata": {
    "tags": []
   },
   "outputs": [],
   "source": [
    "def get_T(target_gamma):\n",
    "    gamma = search_sampled_row_budget_fast(1)\n",
    "    t = 1\n",
    "    while gamma < target_gamma:\n",
    "        t += 1\n",
    "        gamma = search_sampled_row_budget_fast(t)\n",
    "    return t"
   ]
  },
  {
   "cell_type": "code",
   "execution_count": null,
   "id": "6de3c77c-3e79-4498-ad5d-fdc6d31dffef",
   "metadata": {
    "tags": []
   },
   "outputs": [],
   "source": [
    "T_list = []\n",
    "for tg in range(2, 9, 1):\n",
    "    T_list.append(get_T(tg))"
   ]
  },
  {
   "cell_type": "code",
   "execution_count": null,
   "id": "f03cf63d-30d8-4b41-879b-33959132a1fc",
   "metadata": {
    "tags": []
   },
   "outputs": [],
   "source": [
    "# total number of iterations for different privacy budgets in [2,8]\n",
    "print(T_list)"
   ]
  },
  {
   "cell_type": "markdown",
   "id": "75273e0e-a6f4-40d4-9f59-2c20cd63e354",
   "metadata": {},
   "source": [
    "### Calibrating Number of Iterations using Baseline Solution"
   ]
  },
  {
   "cell_type": "code",
   "execution_count": null,
   "id": "4198d1ef-46d2-4831-9b8b-8d6661e0e06f",
   "metadata": {
    "scrolled": true,
    "tags": []
   },
   "outputs": [],
   "source": [
    "def get_T_naive(target_gamma):\n",
    "    t_max = 100\n",
    "    t_min = 1\n",
    "    \n",
    "    mid = int((t_max+t_min)/2)\n",
    "    \n",
    "    while t_max - t_min > 1:\n",
    "        eps = m*get_eps_bounded(q, sigma, bad_event, mid)\n",
    "        ratio = (np.e**(eps/m)-1)/(np.e**eps-1)\n",
    "        tmp_g = m*get_eps_bounded(q, sigma, ratio*bad_event, mid)\n",
    "        \n",
    "        if tmp_g > target_gamma:\n",
    "            t_max = mid\n",
    "        else:\n",
    "            t_min = mid\n",
    "        mid = int((t_max+t_min)/2)\n",
    "    return t_max"
   ]
  },
  {
   "cell_type": "code",
   "execution_count": null,
   "id": "06f178a1-a604-47eb-afff-8a9b288c8600",
   "metadata": {},
   "outputs": [],
   "source": [
    "T_list = []\n",
    "for tar_g in range(2, 9, 1):\n",
    "    T_list.append(get_T_naive(tar_g))"
   ]
  },
  {
   "cell_type": "code",
   "execution_count": null,
   "id": "468df08d-5ce4-4a4e-9e56-fd0a7a0bb991",
   "metadata": {},
   "outputs": [],
   "source": [
    "# number of iterations calibrated by naive group privacy solution\n",
    "print(T_list)"
   ]
  },
  {
   "cell_type": "code",
   "execution_count": null,
   "id": "2ae7260c-e9cb-4955-863e-552f6f8c84ac",
   "metadata": {},
   "outputs": [],
   "source": []
  }
 ],
 "metadata": {
  "kernelspec": {
   "display_name": "Python 3 (ipykernel)",
   "language": "python",
   "name": "python3"
  },
  "language_info": {
   "codemirror_mode": {
    "name": "ipython",
    "version": 3
   },
   "file_extension": ".py",
   "mimetype": "text/x-python",
   "name": "python",
   "nbconvert_exporter": "python",
   "pygments_lexer": "ipython3",
   "version": "3.8.8"
  }
 },
 "nbformat": 4,
 "nbformat_minor": 5
}

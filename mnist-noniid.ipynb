{
 "cells": [
  {
   "cell_type": "code",
   "execution_count": null,
   "id": "c89696bc-156e-4b8b-9250-04a63c0aab7d",
   "metadata": {
    "tags": []
   },
   "outputs": [],
   "source": [
    "# Application of FL task\n",
    "from MLModel import *\n",
    "from FLModel_row import *\n",
    "from utils import *\n",
    "from rdp_analysis import calibrating_sampled_gaussian\n",
    "from privacy_analysis import calibrating_distp_noise\n",
    "\n",
    "from torchvision import datasets, transforms\n",
    "import torch\n",
    "import numpy as np\n",
    "import os\n",
    "\n",
    "os.environ[\"CUDA_VISIBLE_DEVICES\"] = \"1\"\n",
    "device = torch.device(\"cuda:0\" if torch.cuda.is_available() else \"cpu\")\n",
    "#device = torch.device(\"cpu\")\n",
    "\n",
    "data_set = 'minst'"
   ]
  },
  {
   "cell_type": "code",
   "execution_count": null,
   "id": "f42dbd2f-ed3f-4950-9d7a-cec7afd5027d",
   "metadata": {
    "tags": []
   },
   "outputs": [],
   "source": [
    "n_clients = 4\n",
    "n_classes = 10"
   ]
  },
  {
   "cell_type": "code",
   "execution_count": null,
   "id": "59ea4837-05a7-43c6-8745-997b8c277a45",
   "metadata": {
    "tags": []
   },
   "outputs": [],
   "source": [
    "scattering, K, (h, w) = get_scatter_transform()\n",
    "scattering.to(device)\n",
    "\n",
    "def get_scattered_feature(dataset):\n",
    "    scatters = []\n",
    "    targets = []\n",
    "    \n",
    "    loader = torch.utils.data.DataLoader(\n",
    "        dataset, batch_size=256, shuffle=True, num_workers=1, pin_memory=True)\n",
    "\n",
    "    \n",
    "    for (data, target) in loader:\n",
    "        data, target = data.to(device), target.to(device)\n",
    "        if scattering is not None:\n",
    "            data = scattering(data)\n",
    "        scatters.append(data)\n",
    "        targets.append(target)\n",
    "\n",
    "    scatters = torch.cat(scatters, axis=0)\n",
    "    targets = torch.cat(targets, axis=0)\n",
    "\n",
    "    data = torch.utils.data.TensorDataset(scatters, targets)\n",
    "    return data\n",
    "\n",
    "def load_mnist():\n",
    "    train = datasets.MNIST(root=\"~/data/\", train=True, download=True, transform=transforms.ToTensor())\n",
    "    test = datasets.MNIST(root=\"~/data/\", train=False, download=True, transform=transforms.ToTensor())\n",
    "    \n",
    "    # get scattered features\n",
    "    train = get_scattered_feature(train)\n",
    "    test = get_scattered_feature(test)\n",
    "    \n",
    "    train_data = train[:][0].squeeze().cpu().float()\n",
    "    train_label = train[:][1].cpu()\n",
    "    \n",
    "    test_data = test[:][0].squeeze().cpu().float()\n",
    "    test_label = test[:][1].cpu()\n",
    "\n",
    "    # Dirichlet distribution\n",
    "    label_distribution = np.random.dirichlet([0.5]*n_clients, n_classes)\n",
    "    class_idcs = [torch.where(train_label==y)[0].numpy() for y in range(n_classes)]\n",
    "    client_idcs = [[] for _ in range(n_clients)]\n",
    "    for c, fracs in zip(class_idcs, label_distribution):\n",
    "        for i, idcs in enumerate(np.split(c, (np.cumsum(fracs)[:-1]*len(c)).astype(int))):\n",
    "            client_idcs[i] += [idcs]\n",
    "\n",
    "    client_idcs = [np.concatenate(idcs) for idcs in client_idcs]\n",
    "\n",
    "    for i in range(4):\n",
    "        print(client_idcs[i].shape)\n",
    "    \n",
    "    # split MNIST (training set) into non-iid data sets\n",
    "    non_iid = []\n",
    "    for i in range(n_clients):\n",
    "        idx = client_idcs[i]\n",
    "        d = train_data[idx]\n",
    "        targets = train_label[idx].float()\n",
    "        non_iid.append((d, targets))\n",
    "    non_iid.append((test_data.float(), test_label.float()))\n",
    "    return non_iid"
   ]
  },
  {
   "cell_type": "code",
   "execution_count": null,
   "id": "99295c62-2169-40eb-8759-35401c02b172",
   "metadata": {
    "tags": []
   },
   "outputs": [],
   "source": [
    "d = load_mnist()\n",
    "torch.save(d, 'scattered-mnist-noniid.pt')"
   ]
  },
  {
   "cell_type": "code",
   "execution_count": null,
   "id": "6fe85a25-ba4d-4827-9ded-e32134ff9fff",
   "metadata": {
    "tags": []
   },
   "outputs": [],
   "source": [
    "ld = torch.load('scattered-mnist-noniid.pt')"
   ]
  },
  {
   "cell_type": "code",
   "execution_count": null,
   "id": "41da51fb-2c42-4589-923d-2f2569735f6c",
   "metadata": {
    "tags": []
   },
   "outputs": [],
   "source": [
    "for i in range(5):\n",
    "    print(torch.bincount(ld[i][1].int()))"
   ]
  },
  {
   "cell_type": "code",
   "execution_count": null,
   "id": "7d94edb1-b14e-4aa6-b47e-e04247242199",
   "metadata": {},
   "outputs": [],
   "source": []
  }
 ],
 "metadata": {
  "kernelspec": {
   "display_name": "Python 3 (ipykernel)",
   "language": "python",
   "name": "python3"
  },
  "language_info": {
   "codemirror_mode": {
    "name": "ipython",
    "version": 3
   },
   "file_extension": ".py",
   "mimetype": "text/x-python",
   "name": "python",
   "nbconvert_exporter": "python",
   "pygments_lexer": "ipython3",
   "version": "3.8.8"
  }
 },
 "nbformat": 4,
 "nbformat_minor": 5
}
